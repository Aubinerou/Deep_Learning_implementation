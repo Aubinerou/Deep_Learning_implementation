{
 "cells": [
  {
   "cell_type": "markdown",
   "id": "a6000262-cc42-4f68-a04b-7c97bffa0cec",
   "metadata": {},
   "source": [
    "# Data Science Tools and Ecosystem"
   ]
  },
  {
   "cell_type": "markdown",
   "id": "20e1a4f1-f3db-4f0b-80ae-b056b9deb75a",
   "metadata": {},
   "source": [
    "In this notebook, Data Science Tools and Ecosystem are summarized."
   ]
  },
  {
   "cell_type": "markdown",
   "id": "02abbac1-bd81-4458-b88f-c54804662beb",
   "metadata": {},
   "source": [
    "Some of the popular languages that Data Scientists use are:\n",
    " <ol>\n",
    "     \n",
    "     1- Java\n",
    "     \n",
    "     2- Scala\n",
    "     \n",
    "     3- Julia\n",
    "     \n",
    "     4- Pyhton\n",
    "     \n",
    "     5- SQL\n",
    "     \n",
    "     6- R\n",
    "     \n",
    "     7- JS\n",
    " </ol>"
   ]
  },
  {
   "cell_type": "markdown",
   "id": "f0c2d8b4-8ee6-4c32-8b2f-143d5ae44a44",
   "metadata": {},
   "source": [
    "|Data Science Tools|\n",
    "|------------------|\n",
    "|vs code           |\n",
    "|Apache Spark      |\n",
    "|Jupyter Notebook  |"
   ]
  },
  {
   "cell_type": "markdown",
   "id": "52f5307f-7997-4011-9532-ade81ffc43bf",
   "metadata": {},
   "source": [
    "### Below are a few examples of evaluating arithmetic expressions in Python"
   ]
  },
  {
   "cell_type": "code",
   "execution_count": 2,
   "id": "678969e4-44fb-454e-b050-3e8d0ddb702f",
   "metadata": {},
   "outputs": [
    {
     "data": {
      "text/plain": [
       "17"
      ]
     },
     "execution_count": 2,
     "metadata": {},
     "output_type": "execute_result"
    }
   ],
   "source": [
    "#This a simple arithmetic expression to mutiply then add integers\n",
    "(3*4)+5"
   ]
  },
  {
   "cell_type": "code",
   "execution_count": 4,
   "id": "9c451d9a-ec10-46da-a87e-295cc38556aa",
   "metadata": {},
   "outputs": [
    {
     "data": {
      "text/plain": [
       "3.3333333333333335"
      ]
     },
     "execution_count": 4,
     "metadata": {},
     "output_type": "execute_result"
    }
   ],
   "source": [
    "#as in 1 hour we count 60 min, if we have to convert 200 min into hours, we just have to divide the 200 min by 60 whihch give 3 h 33 min \n",
    "a = 200\n",
    "b = a / 60\n",
    "b"
   ]
  },
  {
   "cell_type": "markdown",
   "id": "2740bed9-eb76-45d5-8374-b18076ba256e",
   "metadata": {},
   "source": [
    "**objectives :**\n",
    "* Java\n",
    "* Julia\n",
    "* Python\n",
    "* R\n",
    "* C/C++"
   ]
  },
  {
   "cell_type": "markdown",
   "id": "8f0df57f-4f0b-4aef-abaf-9c16925beadd",
   "metadata": {},
   "source": [
    "## Author\n",
    "Kotchi-ami Aubin Elegberou"
   ]
  },
  {
   "cell_type": "code",
   "execution_count": null,
   "id": "be2bb19d-ad39-48e2-87fb-3f35eda372f0",
   "metadata": {},
   "outputs": [],
   "source": []
  }
 ],
 "metadata": {
  "kernelspec": {
   "display_name": "Python 3 (ipykernel)",
   "language": "python",
   "name": "python3"
  },
  "language_info": {
   "codemirror_mode": {
    "name": "ipython",
    "version": 3
   },
   "file_extension": ".py",
   "mimetype": "text/x-python",
   "name": "python",
   "nbconvert_exporter": "python",
   "pygments_lexer": "ipython3",
   "version": "3.11.9"
  }
 },
 "nbformat": 4,
 "nbformat_minor": 5
}
